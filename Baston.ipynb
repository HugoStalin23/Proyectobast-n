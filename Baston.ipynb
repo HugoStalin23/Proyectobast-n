{
 "cells": [
  {
   "cell_type": "markdown",
   "id": "concrete-technique",
   "metadata": {},
   "source": [
    "# Importar Librerias"
   ]
  },
  {
   "cell_type": "code",
   "execution_count": 1,
   "id": "bronze-landscape",
   "metadata": {},
   "outputs": [],
   "source": [
    "import pandas as pd"
   ]
  },
  {
   "cell_type": "code",
   "execution_count": 2,
   "id": "imperial-particle",
   "metadata": {},
   "outputs": [],
   "source": [
    "import numpy as np"
   ]
  },
  {
   "cell_type": "code",
   "execution_count": 3,
   "id": "emotional-framing",
   "metadata": {},
   "outputs": [],
   "source": [
    "import seaborn as sns"
   ]
  },
  {
   "cell_type": "code",
   "execution_count": 63,
   "id": "forbidden-combine",
   "metadata": {},
   "outputs": [],
   "source": [
    "from seaborn import boxplot"
   ]
  },
  {
   "cell_type": "code",
   "execution_count": 65,
   "id": "japanese-camel",
   "metadata": {},
   "outputs": [],
   "source": [
    "from seaborn import kdeplot"
   ]
  },
  {
   "cell_type": "code",
   "execution_count": 51,
   "id": "threatened-frost",
   "metadata": {},
   "outputs": [],
   "source": [
    "from seaborn import lmplot"
   ]
  },
  {
   "cell_type": "code",
   "execution_count": 53,
   "id": "legal-talent",
   "metadata": {},
   "outputs": [],
   "source": [
    "from seaborn import distplot"
   ]
  },
  {
   "cell_type": "code",
   "execution_count": 4,
   "id": "czech-coach",
   "metadata": {},
   "outputs": [],
   "source": [
    "from matplotlib import pyplot as plt\n",
    "%matplotlib inline"
   ]
  },
  {
   "cell_type": "markdown",
   "id": "suffering-animation",
   "metadata": {},
   "source": [
    "# Lectura De Archivos"
   ]
  },
  {
   "cell_type": "code",
   "execution_count": 5,
   "id": "empirical-flooring",
   "metadata": {},
   "outputs": [],
   "source": [
    "cliente = pd.read_csv('proyectobastonCliente.csv')"
   ]
  },
  {
   "cell_type": "code",
   "execution_count": 6,
   "id": "incident-desert",
   "metadata": {},
   "outputs": [],
   "source": [
    "usuario = pd.read_csv('proyectobastonUsuarios.csv')"
   ]
  },
  {
   "cell_type": "markdown",
   "id": "occupied-banks",
   "metadata": {},
   "source": [
    "# Información General De Las Tablas"
   ]
  },
  {
   "cell_type": "code",
   "execution_count": 7,
   "id": "stupid-sierra",
   "metadata": {},
   "outputs": [
    {
     "name": "stdout",
     "output_type": "stream",
     "text": [
      "<class 'pandas.core.frame.DataFrame'>\n",
      "RangeIndex: 100 entries, 0 to 99\n",
      "Data columns (total 5 columns):\n",
      " #   Column        Non-Null Count  Dtype \n",
      "---  ------        --------------  ----- \n",
      " 0   id            100 non-null    int64 \n",
      " 1   nombre        100 non-null    object\n",
      " 2   correo        100 non-null    object\n",
      " 3   contraseña    100 non-null    int64 \n",
      " 4   confirmacion  100 non-null    int64 \n",
      "dtypes: int64(3), object(2)\n",
      "memory usage: 4.0+ KB\n"
     ]
    }
   ],
   "source": [
    "cliente.info()"
   ]
  },
  {
   "cell_type": "code",
   "execution_count": 8,
   "id": "acquired-graduate",
   "metadata": {},
   "outputs": [
    {
     "name": "stdout",
     "output_type": "stream",
     "text": [
      "<class 'pandas.core.frame.DataFrame'>\n",
      "RangeIndex: 100 entries, 0 to 99\n",
      "Data columns (total 7 columns):\n",
      " #   Column      Non-Null Count  Dtype \n",
      "---  ------      --------------  ----- \n",
      " 0   id          100 non-null    int64 \n",
      " 1   usuario     100 non-null    object\n",
      " 2   contraseña  100 non-null    int64 \n",
      " 3   familiar    100 non-null    object\n",
      " 4   edad        100 non-null    int64 \n",
      " 5   direccion   100 non-null    object\n",
      " 6   telefono    100 non-null    int64 \n",
      "dtypes: int64(4), object(3)\n",
      "memory usage: 5.6+ KB\n"
     ]
    }
   ],
   "source": [
    "usuario.info()"
   ]
  },
  {
   "cell_type": "markdown",
   "id": "enhanced-legend",
   "metadata": {},
   "source": [
    "# Muestra Los Últimos Datos"
   ]
  },
  {
   "cell_type": "code",
   "execution_count": 9,
   "id": "egyptian-secretariat",
   "metadata": {},
   "outputs": [
    {
     "data": {
      "text/html": [
       "<div>\n",
       "<style scoped>\n",
       "    .dataframe tbody tr th:only-of-type {\n",
       "        vertical-align: middle;\n",
       "    }\n",
       "\n",
       "    .dataframe tbody tr th {\n",
       "        vertical-align: top;\n",
       "    }\n",
       "\n",
       "    .dataframe thead th {\n",
       "        text-align: right;\n",
       "    }\n",
       "</style>\n",
       "<table border=\"1\" class=\"dataframe\">\n",
       "  <thead>\n",
       "    <tr style=\"text-align: right;\">\n",
       "      <th></th>\n",
       "      <th>id</th>\n",
       "      <th>nombre</th>\n",
       "      <th>correo</th>\n",
       "      <th>contraseña</th>\n",
       "      <th>confirmacion</th>\n",
       "    </tr>\n",
       "  </thead>\n",
       "  <tbody>\n",
       "    <tr>\n",
       "      <th>90</th>\n",
       "      <td>91</td>\n",
       "      <td>Marcos</td>\n",
       "      <td>gordofriky12@gmail.com</td>\n",
       "      <td>5543</td>\n",
       "      <td>5543</td>\n",
       "    </tr>\n",
       "    <tr>\n",
       "      <th>91</th>\n",
       "      <td>92</td>\n",
       "      <td>Nairobi</td>\n",
       "      <td>nana44arg@gmail.com</td>\n",
       "      <td>11123</td>\n",
       "      <td>11123</td>\n",
       "    </tr>\n",
       "    <tr>\n",
       "      <th>92</th>\n",
       "      <td>93</td>\n",
       "      <td>Andres</td>\n",
       "      <td>sacacorchos55@gmail.com</td>\n",
       "      <td>8848</td>\n",
       "      <td>8848</td>\n",
       "    </tr>\n",
       "    <tr>\n",
       "      <th>93</th>\n",
       "      <td>94</td>\n",
       "      <td>Manuel</td>\n",
       "      <td>manuela24@gmail.com</td>\n",
       "      <td>5543</td>\n",
       "      <td>5543</td>\n",
       "    </tr>\n",
       "    <tr>\n",
       "      <th>94</th>\n",
       "      <td>95</td>\n",
       "      <td>mayito</td>\n",
       "      <td>isuhermanito12@gmail.com</td>\n",
       "      <td>11123</td>\n",
       "      <td>11123</td>\n",
       "    </tr>\n",
       "    <tr>\n",
       "      <th>95</th>\n",
       "      <td>96</td>\n",
       "      <td>Adolfo</td>\n",
       "      <td>avemaria123@gmail.com</td>\n",
       "      <td>5543</td>\n",
       "      <td>5543</td>\n",
       "    </tr>\n",
       "    <tr>\n",
       "      <th>96</th>\n",
       "      <td>97</td>\n",
       "      <td>Sergio</td>\n",
       "      <td>alpario12@gmail.com</td>\n",
       "      <td>5543</td>\n",
       "      <td>5543</td>\n",
       "    </tr>\n",
       "    <tr>\n",
       "      <th>97</th>\n",
       "      <td>98</td>\n",
       "      <td>Fernando</td>\n",
       "      <td>fer123@gmail.com</td>\n",
       "      <td>11123</td>\n",
       "      <td>11123</td>\n",
       "    </tr>\n",
       "    <tr>\n",
       "      <th>98</th>\n",
       "      <td>99</td>\n",
       "      <td>Alejandro</td>\n",
       "      <td>payaso4sr@gmail.com</td>\n",
       "      <td>8848</td>\n",
       "      <td>8848</td>\n",
       "    </tr>\n",
       "    <tr>\n",
       "      <th>99</th>\n",
       "      <td>100</td>\n",
       "      <td>Manuel</td>\n",
       "      <td>manuelita24@gmail.com</td>\n",
       "      <td>5543</td>\n",
       "      <td>5543</td>\n",
       "    </tr>\n",
       "  </tbody>\n",
       "</table>\n",
       "</div>"
      ],
      "text/plain": [
       "     id     nombre                    correo  contraseña  confirmacion\n",
       "90   91     Marcos    gordofriky12@gmail.com        5543          5543\n",
       "91   92    Nairobi       nana44arg@gmail.com       11123         11123\n",
       "92   93     Andres   sacacorchos55@gmail.com        8848          8848\n",
       "93   94     Manuel       manuela24@gmail.com        5543          5543\n",
       "94   95     mayito  isuhermanito12@gmail.com       11123         11123\n",
       "95   96     Adolfo     avemaria123@gmail.com        5543          5543\n",
       "96   97     Sergio       alpario12@gmail.com        5543          5543\n",
       "97   98   Fernando          fer123@gmail.com       11123         11123\n",
       "98   99  Alejandro       payaso4sr@gmail.com        8848          8848\n",
       "99  100     Manuel     manuelita24@gmail.com        5543          5543"
      ]
     },
     "execution_count": 9,
     "metadata": {},
     "output_type": "execute_result"
    }
   ],
   "source": [
    "cliente.tail(10) "
   ]
  },
  {
   "cell_type": "code",
   "execution_count": 10,
   "id": "packed-jurisdiction",
   "metadata": {},
   "outputs": [
    {
     "data": {
      "text/html": [
       "<div>\n",
       "<style scoped>\n",
       "    .dataframe tbody tr th:only-of-type {\n",
       "        vertical-align: middle;\n",
       "    }\n",
       "\n",
       "    .dataframe tbody tr th {\n",
       "        vertical-align: top;\n",
       "    }\n",
       "\n",
       "    .dataframe thead th {\n",
       "        text-align: right;\n",
       "    }\n",
       "</style>\n",
       "<table border=\"1\" class=\"dataframe\">\n",
       "  <thead>\n",
       "    <tr style=\"text-align: right;\">\n",
       "      <th></th>\n",
       "      <th>id</th>\n",
       "      <th>usuario</th>\n",
       "      <th>contraseña</th>\n",
       "      <th>familiar</th>\n",
       "      <th>edad</th>\n",
       "      <th>direccion</th>\n",
       "      <th>telefono</th>\n",
       "    </tr>\n",
       "  </thead>\n",
       "  <tbody>\n",
       "    <tr>\n",
       "      <th>90</th>\n",
       "      <td>91</td>\n",
       "      <td>Vader</td>\n",
       "      <td>5563</td>\n",
       "      <td>Lucki Lopez</td>\n",
       "      <td>25</td>\n",
       "      <td>calle 27 entre 22 y 24</td>\n",
       "      <td>94514784</td>\n",
       "    </tr>\n",
       "    <tr>\n",
       "      <th>91</th>\n",
       "      <td>92</td>\n",
       "      <td>Diego</td>\n",
       "      <td>4432</td>\n",
       "      <td>Esmeralda Poot</td>\n",
       "      <td>50</td>\n",
       "      <td>calle 24 entre 33 y 35</td>\n",
       "      <td>99988127</td>\n",
       "    </tr>\n",
       "    <tr>\n",
       "      <th>92</th>\n",
       "      <td>93</td>\n",
       "      <td>Alfonzo</td>\n",
       "      <td>55421</td>\n",
       "      <td>Daniela Gutierrez</td>\n",
       "      <td>51</td>\n",
       "      <td>calle 33 Perifirico Merida</td>\n",
       "      <td>92946541</td>\n",
       "    </tr>\n",
       "    <tr>\n",
       "      <th>93</th>\n",
       "      <td>94</td>\n",
       "      <td>Ivan</td>\n",
       "      <td>6632</td>\n",
       "      <td>Mario Lopez</td>\n",
       "      <td>61</td>\n",
       "      <td>calle 24 entre 27 y 30</td>\n",
       "      <td>98939491</td>\n",
       "    </tr>\n",
       "    <tr>\n",
       "      <th>94</th>\n",
       "      <td>95</td>\n",
       "      <td>Sofia</td>\n",
       "      <td>4421</td>\n",
       "      <td>Mariana leon</td>\n",
       "      <td>22</td>\n",
       "      <td>calle 44 entre 25 y 23</td>\n",
       "      <td>99969522</td>\n",
       "    </tr>\n",
       "    <tr>\n",
       "      <th>95</th>\n",
       "      <td>96</td>\n",
       "      <td>Rosio</td>\n",
       "      <td>4432</td>\n",
       "      <td>Macarena Solis</td>\n",
       "      <td>50</td>\n",
       "      <td>calle 24 entre 33 y 35</td>\n",
       "      <td>99988127</td>\n",
       "    </tr>\n",
       "    <tr>\n",
       "      <th>96</th>\n",
       "      <td>97</td>\n",
       "      <td>Fabiam</td>\n",
       "      <td>12355</td>\n",
       "      <td>Daniel Tuz</td>\n",
       "      <td>77</td>\n",
       "      <td>calle 24 entre 33 35</td>\n",
       "      <td>98515274</td>\n",
       "    </tr>\n",
       "    <tr>\n",
       "      <th>97</th>\n",
       "      <td>98</td>\n",
       "      <td>Martin</td>\n",
       "      <td>1123</td>\n",
       "      <td>Denise Argaez</td>\n",
       "      <td>45</td>\n",
       "      <td>calle 32 entre 31 y 33</td>\n",
       "      <td>96874512</td>\n",
       "    </tr>\n",
       "    <tr>\n",
       "      <th>98</th>\n",
       "      <td>99</td>\n",
       "      <td>Moy</td>\n",
       "      <td>6632</td>\n",
       "      <td>Sidelinda Ceballos</td>\n",
       "      <td>45</td>\n",
       "      <td>Calle 29 entre 30 y 32</td>\n",
       "      <td>93959254</td>\n",
       "    </tr>\n",
       "    <tr>\n",
       "      <th>99</th>\n",
       "      <td>100</td>\n",
       "      <td>Eli</td>\n",
       "      <td>8682</td>\n",
       "      <td>Baltazar Romero</td>\n",
       "      <td>54</td>\n",
       "      <td>calle 13 x 26</td>\n",
       "      <td>93915544</td>\n",
       "    </tr>\n",
       "  </tbody>\n",
       "</table>\n",
       "</div>"
      ],
      "text/plain": [
       "     id  usuario  contraseña            familiar  edad  \\\n",
       "90   91    Vader        5563         Lucki Lopez    25   \n",
       "91   92    Diego        4432      Esmeralda Poot    50   \n",
       "92   93  Alfonzo       55421   Daniela Gutierrez    51   \n",
       "93   94     Ivan        6632         Mario Lopez    61   \n",
       "94   95    Sofia        4421        Mariana leon    22   \n",
       "95   96    Rosio        4432      Macarena Solis    50   \n",
       "96   97   Fabiam       12355          Daniel Tuz    77   \n",
       "97   98   Martin        1123       Denise Argaez    45   \n",
       "98   99      Moy        6632  Sidelinda Ceballos    45   \n",
       "99  100      Eli        8682     Baltazar Romero    54   \n",
       "\n",
       "                     direccion  telefono  \n",
       "90      calle 27 entre 22 y 24  94514784  \n",
       "91      calle 24 entre 33 y 35  99988127  \n",
       "92  calle 33 Perifirico Merida  92946541  \n",
       "93      calle 24 entre 27 y 30  98939491  \n",
       "94      calle 44 entre 25 y 23  99969522  \n",
       "95      calle 24 entre 33 y 35  99988127  \n",
       "96       calle 24 entre 33 35   98515274  \n",
       "97      calle 32 entre 31 y 33  96874512  \n",
       "98      Calle 29 entre 30 y 32  93959254  \n",
       "99              calle 13 x 26   93915544  "
      ]
     },
     "execution_count": 10,
     "metadata": {},
     "output_type": "execute_result"
    }
   ],
   "source": [
    "usuario.tail(10)"
   ]
  },
  {
   "cell_type": "markdown",
   "id": "registered-crime",
   "metadata": {},
   "source": [
    "# Datos - Número de Columna"
   ]
  },
  {
   "cell_type": "code",
   "execution_count": 11,
   "id": "normal-singer",
   "metadata": {},
   "outputs": [
    {
     "data": {
      "text/plain": [
       "(100, 5)"
      ]
     },
     "execution_count": 11,
     "metadata": {},
     "output_type": "execute_result"
    }
   ],
   "source": [
    "cliente.shape"
   ]
  },
  {
   "cell_type": "code",
   "execution_count": 12,
   "id": "unlike-division",
   "metadata": {},
   "outputs": [
    {
     "data": {
      "text/plain": [
       "(100, 7)"
      ]
     },
     "execution_count": 12,
     "metadata": {},
     "output_type": "execute_result"
    }
   ],
   "source": [
    "usuario.shape"
   ]
  },
  {
   "cell_type": "markdown",
   "id": "wooden-queens",
   "metadata": {},
   "source": [
    "# Descripción De Tablas"
   ]
  },
  {
   "cell_type": "code",
   "execution_count": 13,
   "id": "automatic-organizer",
   "metadata": {},
   "outputs": [
    {
     "data": {
      "text/html": [
       "<div>\n",
       "<style scoped>\n",
       "    .dataframe tbody tr th:only-of-type {\n",
       "        vertical-align: middle;\n",
       "    }\n",
       "\n",
       "    .dataframe tbody tr th {\n",
       "        vertical-align: top;\n",
       "    }\n",
       "\n",
       "    .dataframe thead th {\n",
       "        text-align: right;\n",
       "    }\n",
       "</style>\n",
       "<table border=\"1\" class=\"dataframe\">\n",
       "  <thead>\n",
       "    <tr style=\"text-align: right;\">\n",
       "      <th></th>\n",
       "      <th>id</th>\n",
       "      <th>nombre</th>\n",
       "      <th>correo</th>\n",
       "      <th>contraseña</th>\n",
       "      <th>confirmacion</th>\n",
       "    </tr>\n",
       "  </thead>\n",
       "  <tbody>\n",
       "    <tr>\n",
       "      <th>0</th>\n",
       "      <td>1</td>\n",
       "      <td>Miguel</td>\n",
       "      <td>Miguel123@gmail.com</td>\n",
       "      <td>1123</td>\n",
       "      <td>1123</td>\n",
       "    </tr>\n",
       "    <tr>\n",
       "      <th>1</th>\n",
       "      <td>2</td>\n",
       "      <td>Eric</td>\n",
       "      <td>eric123@gmail.com</td>\n",
       "      <td>11123</td>\n",
       "      <td>11123</td>\n",
       "    </tr>\n",
       "    <tr>\n",
       "      <th>2</th>\n",
       "      <td>3</td>\n",
       "      <td>Angel</td>\n",
       "      <td>angelitobb@gmail.com</td>\n",
       "      <td>3322</td>\n",
       "      <td>3322</td>\n",
       "    </tr>\n",
       "    <tr>\n",
       "      <th>3</th>\n",
       "      <td>4</td>\n",
       "      <td>Sergio</td>\n",
       "      <td>alpario12@gmail.com</td>\n",
       "      <td>5543</td>\n",
       "      <td>5543</td>\n",
       "    </tr>\n",
       "    <tr>\n",
       "      <th>4</th>\n",
       "      <td>5</td>\n",
       "      <td>Maria</td>\n",
       "      <td>mari123peña@gmail.com</td>\n",
       "      <td>93939</td>\n",
       "      <td>93939</td>\n",
       "    </tr>\n",
       "    <tr>\n",
       "      <th>...</th>\n",
       "      <td>...</td>\n",
       "      <td>...</td>\n",
       "      <td>...</td>\n",
       "      <td>...</td>\n",
       "      <td>...</td>\n",
       "    </tr>\n",
       "    <tr>\n",
       "      <th>95</th>\n",
       "      <td>96</td>\n",
       "      <td>Adolfo</td>\n",
       "      <td>avemaria123@gmail.com</td>\n",
       "      <td>5543</td>\n",
       "      <td>5543</td>\n",
       "    </tr>\n",
       "    <tr>\n",
       "      <th>96</th>\n",
       "      <td>97</td>\n",
       "      <td>Sergio</td>\n",
       "      <td>alpario12@gmail.com</td>\n",
       "      <td>5543</td>\n",
       "      <td>5543</td>\n",
       "    </tr>\n",
       "    <tr>\n",
       "      <th>97</th>\n",
       "      <td>98</td>\n",
       "      <td>Fernando</td>\n",
       "      <td>fer123@gmail.com</td>\n",
       "      <td>11123</td>\n",
       "      <td>11123</td>\n",
       "    </tr>\n",
       "    <tr>\n",
       "      <th>98</th>\n",
       "      <td>99</td>\n",
       "      <td>Alejandro</td>\n",
       "      <td>payaso4sr@gmail.com</td>\n",
       "      <td>8848</td>\n",
       "      <td>8848</td>\n",
       "    </tr>\n",
       "    <tr>\n",
       "      <th>99</th>\n",
       "      <td>100</td>\n",
       "      <td>Manuel</td>\n",
       "      <td>manuelita24@gmail.com</td>\n",
       "      <td>5543</td>\n",
       "      <td>5543</td>\n",
       "    </tr>\n",
       "  </tbody>\n",
       "</table>\n",
       "<p>100 rows × 5 columns</p>\n",
       "</div>"
      ],
      "text/plain": [
       "     id     nombre                 correo  contraseña  confirmacion\n",
       "0     1    Miguel     Miguel123@gmail.com        1123          1123\n",
       "1     2       Eric      eric123@gmail.com       11123         11123\n",
       "2     3      Angel   angelitobb@gmail.com        3322          3322\n",
       "3     4     Sergio    alpario12@gmail.com        5543          5543\n",
       "4     5     Maria   mari123peña@gmail.com       93939         93939\n",
       "..  ...        ...                    ...         ...           ...\n",
       "95   96     Adolfo  avemaria123@gmail.com        5543          5543\n",
       "96   97     Sergio    alpario12@gmail.com        5543          5543\n",
       "97   98   Fernando       fer123@gmail.com       11123         11123\n",
       "98   99  Alejandro    payaso4sr@gmail.com        8848          8848\n",
       "99  100     Manuel  manuelita24@gmail.com        5543          5543\n",
       "\n",
       "[100 rows x 5 columns]"
      ]
     },
     "execution_count": 13,
     "metadata": {},
     "output_type": "execute_result"
    }
   ],
   "source": [
    "cliente"
   ]
  },
  {
   "cell_type": "code",
   "execution_count": 14,
   "id": "stable-stretch",
   "metadata": {},
   "outputs": [
    {
     "data": {
      "text/html": [
       "<div>\n",
       "<style scoped>\n",
       "    .dataframe tbody tr th:only-of-type {\n",
       "        vertical-align: middle;\n",
       "    }\n",
       "\n",
       "    .dataframe tbody tr th {\n",
       "        vertical-align: top;\n",
       "    }\n",
       "\n",
       "    .dataframe thead th {\n",
       "        text-align: right;\n",
       "    }\n",
       "</style>\n",
       "<table border=\"1\" class=\"dataframe\">\n",
       "  <thead>\n",
       "    <tr style=\"text-align: right;\">\n",
       "      <th></th>\n",
       "      <th>id</th>\n",
       "      <th>usuario</th>\n",
       "      <th>contraseña</th>\n",
       "      <th>familiar</th>\n",
       "      <th>edad</th>\n",
       "      <th>direccion</th>\n",
       "      <th>telefono</th>\n",
       "    </tr>\n",
       "  </thead>\n",
       "  <tbody>\n",
       "    <tr>\n",
       "      <th>0</th>\n",
       "      <td>1</td>\n",
       "      <td>Miguel123</td>\n",
       "      <td>1234</td>\n",
       "      <td>Martin Ramires</td>\n",
       "      <td>64</td>\n",
       "      <td>calle 33 x 44 col. san martin</td>\n",
       "      <td>95253654</td>\n",
       "    </tr>\n",
       "    <tr>\n",
       "      <th>1</th>\n",
       "      <td>2</td>\n",
       "      <td>Omar</td>\n",
       "      <td>1234</td>\n",
       "      <td>Jose Lopez</td>\n",
       "      <td>64</td>\n",
       "      <td>calle 29 x 32 y 34 Col 5 calle</td>\n",
       "      <td>96825411</td>\n",
       "    </tr>\n",
       "    <tr>\n",
       "      <th>2</th>\n",
       "      <td>3</td>\n",
       "      <td>Lorenzo</td>\n",
       "      <td>12345</td>\n",
       "      <td>Fabiam lemus</td>\n",
       "      <td>66</td>\n",
       "      <td>Calle 33 colo Periferico</td>\n",
       "      <td>92336584</td>\n",
       "    </tr>\n",
       "    <tr>\n",
       "      <th>3</th>\n",
       "      <td>4</td>\n",
       "      <td>Fabiam</td>\n",
       "      <td>12355</td>\n",
       "      <td>Daniel Tuz</td>\n",
       "      <td>77</td>\n",
       "      <td>calle 24 entre 33 35</td>\n",
       "      <td>98515274</td>\n",
       "    </tr>\n",
       "    <tr>\n",
       "      <th>4</th>\n",
       "      <td>5</td>\n",
       "      <td>Daniel</td>\n",
       "      <td>4421</td>\n",
       "      <td>Lilia sosa</td>\n",
       "      <td>22</td>\n",
       "      <td>calle 44 entre 25 y 23</td>\n",
       "      <td>99969522</td>\n",
       "    </tr>\n",
       "    <tr>\n",
       "      <th>...</th>\n",
       "      <td>...</td>\n",
       "      <td>...</td>\n",
       "      <td>...</td>\n",
       "      <td>...</td>\n",
       "      <td>...</td>\n",
       "      <td>...</td>\n",
       "      <td>...</td>\n",
       "    </tr>\n",
       "    <tr>\n",
       "      <th>95</th>\n",
       "      <td>96</td>\n",
       "      <td>Rosio</td>\n",
       "      <td>4432</td>\n",
       "      <td>Macarena Solis</td>\n",
       "      <td>50</td>\n",
       "      <td>calle 24 entre 33 y 35</td>\n",
       "      <td>99988127</td>\n",
       "    </tr>\n",
       "    <tr>\n",
       "      <th>96</th>\n",
       "      <td>97</td>\n",
       "      <td>Fabiam</td>\n",
       "      <td>12355</td>\n",
       "      <td>Daniel Tuz</td>\n",
       "      <td>77</td>\n",
       "      <td>calle 24 entre 33 35</td>\n",
       "      <td>98515274</td>\n",
       "    </tr>\n",
       "    <tr>\n",
       "      <th>97</th>\n",
       "      <td>98</td>\n",
       "      <td>Martin</td>\n",
       "      <td>1123</td>\n",
       "      <td>Denise Argaez</td>\n",
       "      <td>45</td>\n",
       "      <td>calle 32 entre 31 y 33</td>\n",
       "      <td>96874512</td>\n",
       "    </tr>\n",
       "    <tr>\n",
       "      <th>98</th>\n",
       "      <td>99</td>\n",
       "      <td>Moy</td>\n",
       "      <td>6632</td>\n",
       "      <td>Sidelinda Ceballos</td>\n",
       "      <td>45</td>\n",
       "      <td>Calle 29 entre 30 y 32</td>\n",
       "      <td>93959254</td>\n",
       "    </tr>\n",
       "    <tr>\n",
       "      <th>99</th>\n",
       "      <td>100</td>\n",
       "      <td>Eli</td>\n",
       "      <td>8682</td>\n",
       "      <td>Baltazar Romero</td>\n",
       "      <td>54</td>\n",
       "      <td>calle 13 x 26</td>\n",
       "      <td>93915544</td>\n",
       "    </tr>\n",
       "  </tbody>\n",
       "</table>\n",
       "<p>100 rows × 7 columns</p>\n",
       "</div>"
      ],
      "text/plain": [
       "     id    usuario  contraseña            familiar  edad  \\\n",
       "0     1  Miguel123        1234      Martin Ramires    64   \n",
       "1     2       Omar        1234          Jose Lopez    64   \n",
       "2     3    Lorenzo       12345        Fabiam lemus    66   \n",
       "3     4     Fabiam       12355          Daniel Tuz    77   \n",
       "4     5    Daniel         4421          Lilia sosa    22   \n",
       "..  ...        ...         ...                 ...   ...   \n",
       "95   96      Rosio        4432      Macarena Solis    50   \n",
       "96   97     Fabiam       12355          Daniel Tuz    77   \n",
       "97   98     Martin        1123       Denise Argaez    45   \n",
       "98   99        Moy        6632  Sidelinda Ceballos    45   \n",
       "99  100        Eli        8682     Baltazar Romero    54   \n",
       "\n",
       "                         direccion  telefono  \n",
       "0    calle 33 x 44 col. san martin  95253654  \n",
       "1   calle 29 x 32 y 34 Col 5 calle  96825411  \n",
       "2         Calle 33 colo Periferico  92336584  \n",
       "3            calle 24 entre 33 35   98515274  \n",
       "4           calle 44 entre 25 y 23  99969522  \n",
       "..                             ...       ...  \n",
       "95          calle 24 entre 33 y 35  99988127  \n",
       "96           calle 24 entre 33 35   98515274  \n",
       "97          calle 32 entre 31 y 33  96874512  \n",
       "98          Calle 29 entre 30 y 32  93959254  \n",
       "99                  calle 13 x 26   93915544  \n",
       "\n",
       "[100 rows x 7 columns]"
      ]
     },
     "execution_count": 14,
     "metadata": {},
     "output_type": "execute_result"
    }
   ],
   "source": [
    "usuario"
   ]
  },
  {
   "cell_type": "markdown",
   "id": "chief-pocket",
   "metadata": {},
   "source": [
    "# Archivo, Tabla, Orden Descendiente Por Defecto de Datos"
   ]
  },
  {
   "cell_type": "code",
   "execution_count": 15,
   "id": "speaking-african",
   "metadata": {},
   "outputs": [
    {
     "data": {
      "text/plain": [
       "Manuel        8\n",
       "Andres        7\n",
       "Adolfo        5\n",
       "Sergio        5\n",
       "Marcos        4\n",
       "Mario         4\n",
       "Petter        4\n",
       "Nairobi       4\n",
       "mayito        4\n",
       "Pastor        3\n",
       "Augusto       3\n",
       "Martin        3\n",
       "Estudar       3\n",
       "Fernando      3\n",
       "Alejandro     3\n",
       "Esmeralda     3\n",
       "Miguela       3\n",
       "Miguel        2\n",
       "Jeovani       2\n",
       "Karla         2\n",
       "kako          2\n",
       "geovani       2\n",
       "Carlos        2\n",
       "Eric          2\n",
       "Jose          2\n",
       "Elizabeth     1\n",
       "Juan          1\n",
       "Antonio       1\n",
       "Julio         1\n",
       "Maria         1\n",
       "Gustavo       1\n",
       "Manuela       1\n",
       "Diergo        1\n",
       "Estevan       1\n",
       "Emir          1\n",
       "Leydi         1\n",
       "Mariana       1\n",
       "Angel         1\n",
       "Ivan          1\n",
       "Cesar         1\n",
       "Name: nombre, dtype: int64"
      ]
     },
     "execution_count": 15,
     "metadata": {},
     "output_type": "execute_result"
    }
   ],
   "source": [
    "cliente.nombre.value_counts(ascending=False)"
   ]
  },
  {
   "cell_type": "markdown",
   "id": "frequent-cutting",
   "metadata": {},
   "source": [
    "# Búsqueda Por Nombre, Archivo - Tabla - Columna \"Nombre\""
   ]
  },
  {
   "cell_type": "code",
   "execution_count": 16,
   "id": "catholic-evidence",
   "metadata": {},
   "outputs": [
    {
     "data": {
      "text/html": [
       "<div>\n",
       "<style scoped>\n",
       "    .dataframe tbody tr th:only-of-type {\n",
       "        vertical-align: middle;\n",
       "    }\n",
       "\n",
       "    .dataframe tbody tr th {\n",
       "        vertical-align: top;\n",
       "    }\n",
       "\n",
       "    .dataframe thead th {\n",
       "        text-align: right;\n",
       "    }\n",
       "</style>\n",
       "<table border=\"1\" class=\"dataframe\">\n",
       "  <thead>\n",
       "    <tr style=\"text-align: right;\">\n",
       "      <th></th>\n",
       "      <th>id</th>\n",
       "      <th>nombre</th>\n",
       "      <th>correo</th>\n",
       "      <th>contraseña</th>\n",
       "      <th>confirmacion</th>\n",
       "    </tr>\n",
       "  </thead>\n",
       "  <tbody>\n",
       "    <tr>\n",
       "      <th>15</th>\n",
       "      <td>16</td>\n",
       "      <td>Manuel</td>\n",
       "      <td>manuelita24@gmail.com</td>\n",
       "      <td>5543</td>\n",
       "      <td>5543</td>\n",
       "    </tr>\n",
       "    <tr>\n",
       "      <th>39</th>\n",
       "      <td>40</td>\n",
       "      <td>Manuel</td>\n",
       "      <td>manuela24@gmail.com</td>\n",
       "      <td>5543</td>\n",
       "      <td>5543</td>\n",
       "    </tr>\n",
       "    <tr>\n",
       "      <th>49</th>\n",
       "      <td>50</td>\n",
       "      <td>Manuel</td>\n",
       "      <td>manuelita24@gmail.com</td>\n",
       "      <td>5543</td>\n",
       "      <td>5543</td>\n",
       "    </tr>\n",
       "    <tr>\n",
       "      <th>60</th>\n",
       "      <td>61</td>\n",
       "      <td>Manuel</td>\n",
       "      <td>manuela24@gmail.com</td>\n",
       "      <td>5543</td>\n",
       "      <td>5543</td>\n",
       "    </tr>\n",
       "    <tr>\n",
       "      <th>72</th>\n",
       "      <td>73</td>\n",
       "      <td>Manuel</td>\n",
       "      <td>manuelita24@gmail.com</td>\n",
       "      <td>5543</td>\n",
       "      <td>5543</td>\n",
       "    </tr>\n",
       "    <tr>\n",
       "      <th>87</th>\n",
       "      <td>88</td>\n",
       "      <td>Manuel</td>\n",
       "      <td>manuelita24@gmail.com</td>\n",
       "      <td>5543</td>\n",
       "      <td>5543</td>\n",
       "    </tr>\n",
       "    <tr>\n",
       "      <th>93</th>\n",
       "      <td>94</td>\n",
       "      <td>Manuel</td>\n",
       "      <td>manuela24@gmail.com</td>\n",
       "      <td>5543</td>\n",
       "      <td>5543</td>\n",
       "    </tr>\n",
       "    <tr>\n",
       "      <th>99</th>\n",
       "      <td>100</td>\n",
       "      <td>Manuel</td>\n",
       "      <td>manuelita24@gmail.com</td>\n",
       "      <td>5543</td>\n",
       "      <td>5543</td>\n",
       "    </tr>\n",
       "  </tbody>\n",
       "</table>\n",
       "</div>"
      ],
      "text/plain": [
       "     id  nombre                 correo  contraseña  confirmacion\n",
       "15   16  Manuel  manuelita24@gmail.com        5543          5543\n",
       "39   40  Manuel    manuela24@gmail.com        5543          5543\n",
       "49   50  Manuel  manuelita24@gmail.com        5543          5543\n",
       "60   61  Manuel    manuela24@gmail.com        5543          5543\n",
       "72   73  Manuel  manuelita24@gmail.com        5543          5543\n",
       "87   88  Manuel  manuelita24@gmail.com        5543          5543\n",
       "93   94  Manuel    manuela24@gmail.com        5543          5543\n",
       "99  100  Manuel  manuelita24@gmail.com        5543          5543"
      ]
     },
     "execution_count": 16,
     "metadata": {},
     "output_type": "execute_result"
    }
   ],
   "source": [
    "cliente[cliente.nombre == \"Manuel\"] "
   ]
  },
  {
   "cell_type": "code",
   "execution_count": 17,
   "id": "ceramic-annotation",
   "metadata": {},
   "outputs": [
    {
     "data": {
      "text/html": [
       "<div>\n",
       "<style scoped>\n",
       "    .dataframe tbody tr th:only-of-type {\n",
       "        vertical-align: middle;\n",
       "    }\n",
       "\n",
       "    .dataframe tbody tr th {\n",
       "        vertical-align: top;\n",
       "    }\n",
       "\n",
       "    .dataframe thead th {\n",
       "        text-align: right;\n",
       "    }\n",
       "</style>\n",
       "<table border=\"1\" class=\"dataframe\">\n",
       "  <thead>\n",
       "    <tr style=\"text-align: right;\">\n",
       "      <th></th>\n",
       "      <th>id</th>\n",
       "      <th>usuario</th>\n",
       "      <th>contraseña</th>\n",
       "      <th>familiar</th>\n",
       "      <th>edad</th>\n",
       "      <th>direccion</th>\n",
       "      <th>telefono</th>\n",
       "    </tr>\n",
       "  </thead>\n",
       "  <tbody>\n",
       "    <tr>\n",
       "      <th>1</th>\n",
       "      <td>2</td>\n",
       "      <td>Omar</td>\n",
       "      <td>1234</td>\n",
       "      <td>Jose Lopez</td>\n",
       "      <td>64</td>\n",
       "      <td>calle 29 x 32 y 34 Col 5 calle</td>\n",
       "      <td>96825411</td>\n",
       "    </tr>\n",
       "    <tr>\n",
       "      <th>39</th>\n",
       "      <td>40</td>\n",
       "      <td>Omar</td>\n",
       "      <td>1234</td>\n",
       "      <td>Jose Lopez</td>\n",
       "      <td>64</td>\n",
       "      <td>calle 29 x 32 y 34 Col 5 calle</td>\n",
       "      <td>96825411</td>\n",
       "    </tr>\n",
       "    <tr>\n",
       "      <th>57</th>\n",
       "      <td>58</td>\n",
       "      <td>Omar</td>\n",
       "      <td>1234</td>\n",
       "      <td>Jose Lopez</td>\n",
       "      <td>64</td>\n",
       "      <td>calle 29 x 32 y 34 Col 5 calle</td>\n",
       "      <td>96825411</td>\n",
       "    </tr>\n",
       "  </tbody>\n",
       "</table>\n",
       "</div>"
      ],
      "text/plain": [
       "    id usuario  contraseña    familiar  edad                       direccion  \\\n",
       "1    2    Omar        1234  Jose Lopez    64  calle 29 x 32 y 34 Col 5 calle   \n",
       "39  40    Omar        1234  Jose Lopez    64  calle 29 x 32 y 34 Col 5 calle   \n",
       "57  58    Omar        1234  Jose Lopez    64  calle 29 x 32 y 34 Col 5 calle   \n",
       "\n",
       "    telefono  \n",
       "1   96825411  \n",
       "39  96825411  \n",
       "57  96825411  "
      ]
     },
     "execution_count": 17,
     "metadata": {},
     "output_type": "execute_result"
    }
   ],
   "source": [
    "usuario[usuario.usuario == \"Omar\"] "
   ]
  },
  {
   "cell_type": "markdown",
   "id": "unique-scientist",
   "metadata": {},
   "source": [
    "# Nombre De Todas Las Columnas"
   ]
  },
  {
   "cell_type": "code",
   "execution_count": 18,
   "id": "stretch-bruce",
   "metadata": {},
   "outputs": [
    {
     "data": {
      "text/plain": [
       "Index(['id', 'nombre', 'correo', 'contraseña', 'confirmacion'], dtype='object')"
      ]
     },
     "execution_count": 18,
     "metadata": {},
     "output_type": "execute_result"
    }
   ],
   "source": [
    "cliente.columns"
   ]
  },
  {
   "cell_type": "code",
   "execution_count": 19,
   "id": "sonic-raising",
   "metadata": {},
   "outputs": [
    {
     "data": {
      "text/plain": [
       "Index(['id', 'usuario', 'contraseña', 'familiar', 'edad', 'direccion',\n",
       "       'telefono'],\n",
       "      dtype='object')"
      ]
     },
     "execution_count": 19,
     "metadata": {},
     "output_type": "execute_result"
    }
   ],
   "source": [
    "usuario.columns"
   ]
  },
  {
   "cell_type": "markdown",
   "id": "lesser-worry",
   "metadata": {},
   "source": [
    "# Datos Estadísticos De Las Tablas"
   ]
  },
  {
   "cell_type": "code",
   "execution_count": 20,
   "id": "forward-implement",
   "metadata": {},
   "outputs": [
    {
     "data": {
      "text/html": [
       "<div>\n",
       "<style scoped>\n",
       "    .dataframe tbody tr th:only-of-type {\n",
       "        vertical-align: middle;\n",
       "    }\n",
       "\n",
       "    .dataframe tbody tr th {\n",
       "        vertical-align: top;\n",
       "    }\n",
       "\n",
       "    .dataframe thead th {\n",
       "        text-align: right;\n",
       "    }\n",
       "</style>\n",
       "<table border=\"1\" class=\"dataframe\">\n",
       "  <thead>\n",
       "    <tr style=\"text-align: right;\">\n",
       "      <th></th>\n",
       "      <th>id</th>\n",
       "      <th>contraseña</th>\n",
       "      <th>confirmacion</th>\n",
       "    </tr>\n",
       "  </thead>\n",
       "  <tbody>\n",
       "    <tr>\n",
       "      <th>count</th>\n",
       "      <td>100.000000</td>\n",
       "      <td>100.000000</td>\n",
       "      <td>100.000000</td>\n",
       "    </tr>\n",
       "    <tr>\n",
       "      <th>mean</th>\n",
       "      <td>50.500000</td>\n",
       "      <td>13630.310000</td>\n",
       "      <td>13630.310000</td>\n",
       "    </tr>\n",
       "    <tr>\n",
       "      <th>std</th>\n",
       "      <td>29.011492</td>\n",
       "      <td>24043.359015</td>\n",
       "      <td>24043.359015</td>\n",
       "    </tr>\n",
       "    <tr>\n",
       "      <th>min</th>\n",
       "      <td>1.000000</td>\n",
       "      <td>1123.000000</td>\n",
       "      <td>1123.000000</td>\n",
       "    </tr>\n",
       "    <tr>\n",
       "      <th>25%</th>\n",
       "      <td>25.750000</td>\n",
       "      <td>5543.000000</td>\n",
       "      <td>5543.000000</td>\n",
       "    </tr>\n",
       "    <tr>\n",
       "      <th>50%</th>\n",
       "      <td>50.500000</td>\n",
       "      <td>5543.000000</td>\n",
       "      <td>5543.000000</td>\n",
       "    </tr>\n",
       "    <tr>\n",
       "      <th>75%</th>\n",
       "      <td>75.250000</td>\n",
       "      <td>11123.000000</td>\n",
       "      <td>11123.000000</td>\n",
       "    </tr>\n",
       "    <tr>\n",
       "      <th>max</th>\n",
       "      <td>100.000000</td>\n",
       "      <td>93939.000000</td>\n",
       "      <td>93939.000000</td>\n",
       "    </tr>\n",
       "  </tbody>\n",
       "</table>\n",
       "</div>"
      ],
      "text/plain": [
       "               id    contraseña  confirmacion\n",
       "count  100.000000    100.000000    100.000000\n",
       "mean    50.500000  13630.310000  13630.310000\n",
       "std     29.011492  24043.359015  24043.359015\n",
       "min      1.000000   1123.000000   1123.000000\n",
       "25%     25.750000   5543.000000   5543.000000\n",
       "50%     50.500000   5543.000000   5543.000000\n",
       "75%     75.250000  11123.000000  11123.000000\n",
       "max    100.000000  93939.000000  93939.000000"
      ]
     },
     "execution_count": 20,
     "metadata": {},
     "output_type": "execute_result"
    }
   ],
   "source": [
    "cliente.describe()"
   ]
  },
  {
   "cell_type": "code",
   "execution_count": 21,
   "id": "serious-development",
   "metadata": {},
   "outputs": [
    {
     "data": {
      "text/html": [
       "<div>\n",
       "<style scoped>\n",
       "    .dataframe tbody tr th:only-of-type {\n",
       "        vertical-align: middle;\n",
       "    }\n",
       "\n",
       "    .dataframe tbody tr th {\n",
       "        vertical-align: top;\n",
       "    }\n",
       "\n",
       "    .dataframe thead th {\n",
       "        text-align: right;\n",
       "    }\n",
       "</style>\n",
       "<table border=\"1\" class=\"dataframe\">\n",
       "  <thead>\n",
       "    <tr style=\"text-align: right;\">\n",
       "      <th></th>\n",
       "      <th>id</th>\n",
       "      <th>contraseña</th>\n",
       "      <th>edad</th>\n",
       "      <th>telefono</th>\n",
       "    </tr>\n",
       "  </thead>\n",
       "  <tbody>\n",
       "    <tr>\n",
       "      <th>count</th>\n",
       "      <td>100.000000</td>\n",
       "      <td>100.00000</td>\n",
       "      <td>100.000000</td>\n",
       "      <td>1.000000e+02</td>\n",
       "    </tr>\n",
       "    <tr>\n",
       "      <th>mean</th>\n",
       "      <td>50.500000</td>\n",
       "      <td>51586.03000</td>\n",
       "      <td>47.030000</td>\n",
       "      <td>9.675011e+07</td>\n",
       "    </tr>\n",
       "    <tr>\n",
       "      <th>std</th>\n",
       "      <td>29.011492</td>\n",
       "      <td>186450.54421</td>\n",
       "      <td>16.249603</td>\n",
       "      <td>2.608483e+06</td>\n",
       "    </tr>\n",
       "    <tr>\n",
       "      <th>min</th>\n",
       "      <td>1.000000</td>\n",
       "      <td>1123.00000</td>\n",
       "      <td>22.000000</td>\n",
       "      <td>9.233658e+07</td>\n",
       "    </tr>\n",
       "    <tr>\n",
       "      <th>25%</th>\n",
       "      <td>25.750000</td>\n",
       "      <td>4421.00000</td>\n",
       "      <td>33.000000</td>\n",
       "      <td>9.451478e+07</td>\n",
       "    </tr>\n",
       "    <tr>\n",
       "      <th>50%</th>\n",
       "      <td>50.500000</td>\n",
       "      <td>5563.00000</td>\n",
       "      <td>50.000000</td>\n",
       "      <td>9.687451e+07</td>\n",
       "    </tr>\n",
       "    <tr>\n",
       "      <th>75%</th>\n",
       "      <td>75.250000</td>\n",
       "      <td>9912.00000</td>\n",
       "      <td>61.000000</td>\n",
       "      <td>9.927124e+07</td>\n",
       "    </tr>\n",
       "    <tr>\n",
       "      <th>max</th>\n",
       "      <td>100.000000</td>\n",
       "      <td>858482.00000</td>\n",
       "      <td>77.000000</td>\n",
       "      <td>9.998813e+07</td>\n",
       "    </tr>\n",
       "  </tbody>\n",
       "</table>\n",
       "</div>"
      ],
      "text/plain": [
       "               id    contraseña        edad      telefono\n",
       "count  100.000000     100.00000  100.000000  1.000000e+02\n",
       "mean    50.500000   51586.03000   47.030000  9.675011e+07\n",
       "std     29.011492  186450.54421   16.249603  2.608483e+06\n",
       "min      1.000000    1123.00000   22.000000  9.233658e+07\n",
       "25%     25.750000    4421.00000   33.000000  9.451478e+07\n",
       "50%     50.500000    5563.00000   50.000000  9.687451e+07\n",
       "75%     75.250000    9912.00000   61.000000  9.927124e+07\n",
       "max    100.000000  858482.00000   77.000000  9.998813e+07"
      ]
     },
     "execution_count": 21,
     "metadata": {},
     "output_type": "execute_result"
    }
   ],
   "source": [
    "usuario.describe()"
   ]
  },
  {
   "cell_type": "markdown",
   "id": "amended-specification",
   "metadata": {},
   "source": [
    "# 2da Forma Del Promedio"
   ]
  },
  {
   "cell_type": "code",
   "execution_count": 22,
   "id": "indian-reviewer",
   "metadata": {},
   "outputs": [
    {
     "data": {
      "text/plain": [
       "47.03"
      ]
     },
     "execution_count": 22,
     "metadata": {},
     "output_type": "execute_result"
    }
   ],
   "source": [
    "usuario.edad.mean()"
   ]
  },
  {
   "cell_type": "markdown",
   "id": "ignored-grant",
   "metadata": {},
   "source": [
    "### ---------------------------------------------------------------------------------------"
   ]
  },
  {
   "cell_type": "markdown",
   "id": "typical-empty",
   "metadata": {},
   "source": [
    "# Leer Datos De WebHost"
   ]
  },
  {
   "cell_type": "code",
   "execution_count": 23,
   "id": "apparent-balance",
   "metadata": {},
   "outputs": [],
   "source": [
    "DatoObstaculo = pd.read_json(\"http://bastonproyecto.000webhostapp.com/bastonapi/Ctrdistancia/mostrar_distancia_obstaculo\")"
   ]
  },
  {
   "cell_type": "code",
   "execution_count": 24,
   "id": "greek-luxembourg",
   "metadata": {},
   "outputs": [],
   "source": [
    "DatoUltrasonico = pd.read_json(\"http://bastonproyecto.000webhostapp.com/bastonapi/Ctrdistancia/mostrar_distancia_ultrasonico\")"
   ]
  },
  {
   "cell_type": "markdown",
   "id": "acknowledged-familiar",
   "metadata": {},
   "source": [
    "# Descripción De Tablas"
   ]
  },
  {
   "cell_type": "code",
   "execution_count": 25,
   "id": "alien-automation",
   "metadata": {},
   "outputs": [
    {
     "data": {
      "text/html": [
       "<div>\n",
       "<style scoped>\n",
       "    .dataframe tbody tr th:only-of-type {\n",
       "        vertical-align: middle;\n",
       "    }\n",
       "\n",
       "    .dataframe tbody tr th {\n",
       "        vertical-align: top;\n",
       "    }\n",
       "\n",
       "    .dataframe thead th {\n",
       "        text-align: right;\n",
       "    }\n",
       "</style>\n",
       "<table border=\"1\" class=\"dataframe\">\n",
       "  <thead>\n",
       "    <tr style=\"text-align: right;\">\n",
       "      <th></th>\n",
       "      <th>distancia</th>\n",
       "      <th>hora</th>\n",
       "    </tr>\n",
       "  </thead>\n",
       "  <tbody>\n",
       "    <tr>\n",
       "      <th>0</th>\n",
       "      <td>87.9</td>\n",
       "      <td>21:21:49</td>\n",
       "    </tr>\n",
       "    <tr>\n",
       "      <th>1</th>\n",
       "      <td>87.9</td>\n",
       "      <td>21:22:04</td>\n",
       "    </tr>\n",
       "    <tr>\n",
       "      <th>2</th>\n",
       "      <td>67.8</td>\n",
       "      <td>20:43:00</td>\n",
       "    </tr>\n",
       "    <tr>\n",
       "      <th>3</th>\n",
       "      <td>78.9</td>\n",
       "      <td>20:43:00</td>\n",
       "    </tr>\n",
       "    <tr>\n",
       "      <th>4</th>\n",
       "      <td>67.8</td>\n",
       "      <td>20:43:06</td>\n",
       "    </tr>\n",
       "    <tr>\n",
       "      <th>5</th>\n",
       "      <td>78.9</td>\n",
       "      <td>20:43:06</td>\n",
       "    </tr>\n",
       "    <tr>\n",
       "      <th>6</th>\n",
       "      <td>76.2</td>\n",
       "      <td>20:43:57</td>\n",
       "    </tr>\n",
       "    <tr>\n",
       "      <th>7</th>\n",
       "      <td>78.9</td>\n",
       "      <td>20:43:57</td>\n",
       "    </tr>\n",
       "    <tr>\n",
       "      <th>8</th>\n",
       "      <td>76.2</td>\n",
       "      <td>20:44:11</td>\n",
       "    </tr>\n",
       "    <tr>\n",
       "      <th>9</th>\n",
       "      <td>78.9</td>\n",
       "      <td>20:44:11</td>\n",
       "    </tr>\n",
       "    <tr>\n",
       "      <th>10</th>\n",
       "      <td>76.2</td>\n",
       "      <td>20:44:37</td>\n",
       "    </tr>\n",
       "    <tr>\n",
       "      <th>11</th>\n",
       "      <td>78.9</td>\n",
       "      <td>20:44:37</td>\n",
       "    </tr>\n",
       "    <tr>\n",
       "      <th>12</th>\n",
       "      <td>67.1</td>\n",
       "      <td>20:45:43</td>\n",
       "    </tr>\n",
       "    <tr>\n",
       "      <th>13</th>\n",
       "      <td>78.3</td>\n",
       "      <td>20:45:43</td>\n",
       "    </tr>\n",
       "    <tr>\n",
       "      <th>14</th>\n",
       "      <td>67.1</td>\n",
       "      <td>20:45:49</td>\n",
       "    </tr>\n",
       "    <tr>\n",
       "      <th>15</th>\n",
       "      <td>78.3</td>\n",
       "      <td>20:45:49</td>\n",
       "    </tr>\n",
       "    <tr>\n",
       "      <th>16</th>\n",
       "      <td>87.8</td>\n",
       "      <td>20:46:18</td>\n",
       "    </tr>\n",
       "    <tr>\n",
       "      <th>17</th>\n",
       "      <td>89.1</td>\n",
       "      <td>20:46:18</td>\n",
       "    </tr>\n",
       "    <tr>\n",
       "      <th>18</th>\n",
       "      <td>87.8</td>\n",
       "      <td>20:46:24</td>\n",
       "    </tr>\n",
       "    <tr>\n",
       "      <th>19</th>\n",
       "      <td>89.1</td>\n",
       "      <td>20:46:24</td>\n",
       "    </tr>\n",
       "    <tr>\n",
       "      <th>20</th>\n",
       "      <td>67.1</td>\n",
       "      <td>20:46:53</td>\n",
       "    </tr>\n",
       "    <tr>\n",
       "      <th>21</th>\n",
       "      <td>78.9</td>\n",
       "      <td>20:46:53</td>\n",
       "    </tr>\n",
       "    <tr>\n",
       "      <th>22</th>\n",
       "      <td>67.1</td>\n",
       "      <td>20:46:59</td>\n",
       "    </tr>\n",
       "    <tr>\n",
       "      <th>23</th>\n",
       "      <td>78.9</td>\n",
       "      <td>20:46:59</td>\n",
       "    </tr>\n",
       "    <tr>\n",
       "      <th>24</th>\n",
       "      <td>76.2</td>\n",
       "      <td>20:47:25</td>\n",
       "    </tr>\n",
       "    <tr>\n",
       "      <th>25</th>\n",
       "      <td>78.3</td>\n",
       "      <td>20:47:25</td>\n",
       "    </tr>\n",
       "    <tr>\n",
       "      <th>26</th>\n",
       "      <td>76.2</td>\n",
       "      <td>20:49:10</td>\n",
       "    </tr>\n",
       "    <tr>\n",
       "      <th>27</th>\n",
       "      <td>78.3</td>\n",
       "      <td>20:49:10</td>\n",
       "    </tr>\n",
       "    <tr>\n",
       "      <th>28</th>\n",
       "      <td>76.2</td>\n",
       "      <td>20:49:47</td>\n",
       "    </tr>\n",
       "    <tr>\n",
       "      <th>29</th>\n",
       "      <td>78.9</td>\n",
       "      <td>20:49:47</td>\n",
       "    </tr>\n",
       "    <tr>\n",
       "      <th>30</th>\n",
       "      <td>76.2</td>\n",
       "      <td>20:49:57</td>\n",
       "    </tr>\n",
       "    <tr>\n",
       "      <th>31</th>\n",
       "      <td>78.9</td>\n",
       "      <td>20:49:57</td>\n",
       "    </tr>\n",
       "    <tr>\n",
       "      <th>32</th>\n",
       "      <td>76.2</td>\n",
       "      <td>20:50:38</td>\n",
       "    </tr>\n",
       "    <tr>\n",
       "      <th>33</th>\n",
       "      <td>78.9</td>\n",
       "      <td>20:50:38</td>\n",
       "    </tr>\n",
       "    <tr>\n",
       "      <th>34</th>\n",
       "      <td>76.2</td>\n",
       "      <td>20:50:44</td>\n",
       "    </tr>\n",
       "    <tr>\n",
       "      <th>35</th>\n",
       "      <td>78.9</td>\n",
       "      <td>20:50:44</td>\n",
       "    </tr>\n",
       "  </tbody>\n",
       "</table>\n",
       "</div>"
      ],
      "text/plain": [
       "    distancia      hora\n",
       "0        87.9  21:21:49\n",
       "1        87.9  21:22:04\n",
       "2        67.8  20:43:00\n",
       "3        78.9  20:43:00\n",
       "4        67.8  20:43:06\n",
       "5        78.9  20:43:06\n",
       "6        76.2  20:43:57\n",
       "7        78.9  20:43:57\n",
       "8        76.2  20:44:11\n",
       "9        78.9  20:44:11\n",
       "10       76.2  20:44:37\n",
       "11       78.9  20:44:37\n",
       "12       67.1  20:45:43\n",
       "13       78.3  20:45:43\n",
       "14       67.1  20:45:49\n",
       "15       78.3  20:45:49\n",
       "16       87.8  20:46:18\n",
       "17       89.1  20:46:18\n",
       "18       87.8  20:46:24\n",
       "19       89.1  20:46:24\n",
       "20       67.1  20:46:53\n",
       "21       78.9  20:46:53\n",
       "22       67.1  20:46:59\n",
       "23       78.9  20:46:59\n",
       "24       76.2  20:47:25\n",
       "25       78.3  20:47:25\n",
       "26       76.2  20:49:10\n",
       "27       78.3  20:49:10\n",
       "28       76.2  20:49:47\n",
       "29       78.9  20:49:47\n",
       "30       76.2  20:49:57\n",
       "31       78.9  20:49:57\n",
       "32       76.2  20:50:38\n",
       "33       78.9  20:50:38\n",
       "34       76.2  20:50:44\n",
       "35       78.9  20:50:44"
      ]
     },
     "execution_count": 25,
     "metadata": {},
     "output_type": "execute_result"
    }
   ],
   "source": [
    "DatoObstaculo"
   ]
  },
  {
   "cell_type": "code",
   "execution_count": 26,
   "id": "focused-midwest",
   "metadata": {},
   "outputs": [
    {
     "data": {
      "text/html": [
       "<div>\n",
       "<style scoped>\n",
       "    .dataframe tbody tr th:only-of-type {\n",
       "        vertical-align: middle;\n",
       "    }\n",
       "\n",
       "    .dataframe tbody tr th {\n",
       "        vertical-align: top;\n",
       "    }\n",
       "\n",
       "    .dataframe thead th {\n",
       "        text-align: right;\n",
       "    }\n",
       "</style>\n",
       "<table border=\"1\" class=\"dataframe\">\n",
       "  <thead>\n",
       "    <tr style=\"text-align: right;\">\n",
       "      <th></th>\n",
       "      <th>distancia</th>\n",
       "      <th>hora</th>\n",
       "    </tr>\n",
       "  </thead>\n",
       "  <tbody>\n",
       "    <tr>\n",
       "      <th>0</th>\n",
       "      <td>78.9</td>\n",
       "      <td>21:20:43</td>\n",
       "    </tr>\n",
       "    <tr>\n",
       "      <th>1</th>\n",
       "      <td>78.9</td>\n",
       "      <td>21:20:50</td>\n",
       "    </tr>\n",
       "    <tr>\n",
       "      <th>2</th>\n",
       "      <td>45.0</td>\n",
       "      <td>21:44:23</td>\n",
       "    </tr>\n",
       "    <tr>\n",
       "      <th>3</th>\n",
       "      <td>24.0</td>\n",
       "      <td>21:44:27</td>\n",
       "    </tr>\n",
       "    <tr>\n",
       "      <th>4</th>\n",
       "      <td>43.0</td>\n",
       "      <td>21:44:34</td>\n",
       "    </tr>\n",
       "    <tr>\n",
       "      <th>5</th>\n",
       "      <td>43.0</td>\n",
       "      <td>21:44:40</td>\n",
       "    </tr>\n",
       "    <tr>\n",
       "      <th>6</th>\n",
       "      <td>51.0</td>\n",
       "      <td>21:44:47</td>\n",
       "    </tr>\n",
       "    <tr>\n",
       "      <th>7</th>\n",
       "      <td>2216.0</td>\n",
       "      <td>21:44:54</td>\n",
       "    </tr>\n",
       "    <tr>\n",
       "      <th>8</th>\n",
       "      <td>145.0</td>\n",
       "      <td>21:45:10</td>\n",
       "    </tr>\n",
       "    <tr>\n",
       "      <th>9</th>\n",
       "      <td>79.0</td>\n",
       "      <td>21:45:17</td>\n",
       "    </tr>\n",
       "    <tr>\n",
       "      <th>10</th>\n",
       "      <td>21.0</td>\n",
       "      <td>21:45:23</td>\n",
       "    </tr>\n",
       "    <tr>\n",
       "      <th>11</th>\n",
       "      <td>22.0</td>\n",
       "      <td>21:45:30</td>\n",
       "    </tr>\n",
       "    <tr>\n",
       "      <th>12</th>\n",
       "      <td>2215.0</td>\n",
       "      <td>21:45:37</td>\n",
       "    </tr>\n",
       "    <tr>\n",
       "      <th>13</th>\n",
       "      <td>2215.0</td>\n",
       "      <td>21:45:53</td>\n",
       "    </tr>\n",
       "    <tr>\n",
       "      <th>14</th>\n",
       "      <td>270.0</td>\n",
       "      <td>21:46:00</td>\n",
       "    </tr>\n",
       "    <tr>\n",
       "      <th>15</th>\n",
       "      <td>2215.0</td>\n",
       "      <td>21:46:07</td>\n",
       "    </tr>\n",
       "    <tr>\n",
       "      <th>16</th>\n",
       "      <td>2215.0</td>\n",
       "      <td>21:46:14</td>\n",
       "    </tr>\n",
       "    <tr>\n",
       "      <th>17</th>\n",
       "      <td>2215.0</td>\n",
       "      <td>21:46:31</td>\n",
       "    </tr>\n",
       "    <tr>\n",
       "      <th>18</th>\n",
       "      <td>2215.0</td>\n",
       "      <td>21:46:38</td>\n",
       "    </tr>\n",
       "    <tr>\n",
       "      <th>19</th>\n",
       "      <td>240.0</td>\n",
       "      <td>21:46:45</td>\n",
       "    </tr>\n",
       "    <tr>\n",
       "      <th>20</th>\n",
       "      <td>2215.0</td>\n",
       "      <td>21:47:01</td>\n",
       "    </tr>\n",
       "    <tr>\n",
       "      <th>21</th>\n",
       "      <td>253.0</td>\n",
       "      <td>21:47:08</td>\n",
       "    </tr>\n",
       "    <tr>\n",
       "      <th>22</th>\n",
       "      <td>551.0</td>\n",
       "      <td>21:47:14</td>\n",
       "    </tr>\n",
       "    <tr>\n",
       "      <th>23</th>\n",
       "      <td>236.0</td>\n",
       "      <td>21:47:31</td>\n",
       "    </tr>\n",
       "    <tr>\n",
       "      <th>24</th>\n",
       "      <td>25.0</td>\n",
       "      <td>21:47:38</td>\n",
       "    </tr>\n",
       "    <tr>\n",
       "      <th>25</th>\n",
       "      <td>72.0</td>\n",
       "      <td>21:47:58</td>\n",
       "    </tr>\n",
       "    <tr>\n",
       "      <th>26</th>\n",
       "      <td>39.0</td>\n",
       "      <td>21:48:05</td>\n",
       "    </tr>\n",
       "    <tr>\n",
       "      <th>27</th>\n",
       "      <td>30.0</td>\n",
       "      <td>21:48:12</td>\n",
       "    </tr>\n",
       "    <tr>\n",
       "      <th>28</th>\n",
       "      <td>253.0</td>\n",
       "      <td>21:48:23</td>\n",
       "    </tr>\n",
       "    <tr>\n",
       "      <th>29</th>\n",
       "      <td>25.0</td>\n",
       "      <td>21:48:31</td>\n",
       "    </tr>\n",
       "    <tr>\n",
       "      <th>30</th>\n",
       "      <td>0.0</td>\n",
       "      <td>22:07:14</td>\n",
       "    </tr>\n",
       "    <tr>\n",
       "      <th>31</th>\n",
       "      <td>0.0</td>\n",
       "      <td>22:07:22</td>\n",
       "    </tr>\n",
       "    <tr>\n",
       "      <th>32</th>\n",
       "      <td>0.0</td>\n",
       "      <td>22:07:40</td>\n",
       "    </tr>\n",
       "    <tr>\n",
       "      <th>33</th>\n",
       "      <td>0.0</td>\n",
       "      <td>22:07:59</td>\n",
       "    </tr>\n",
       "    <tr>\n",
       "      <th>34</th>\n",
       "      <td>0.0</td>\n",
       "      <td>22:08:06</td>\n",
       "    </tr>\n",
       "  </tbody>\n",
       "</table>\n",
       "</div>"
      ],
      "text/plain": [
       "    distancia      hora\n",
       "0        78.9  21:20:43\n",
       "1        78.9  21:20:50\n",
       "2        45.0  21:44:23\n",
       "3        24.0  21:44:27\n",
       "4        43.0  21:44:34\n",
       "5        43.0  21:44:40\n",
       "6        51.0  21:44:47\n",
       "7      2216.0  21:44:54\n",
       "8       145.0  21:45:10\n",
       "9        79.0  21:45:17\n",
       "10       21.0  21:45:23\n",
       "11       22.0  21:45:30\n",
       "12     2215.0  21:45:37\n",
       "13     2215.0  21:45:53\n",
       "14      270.0  21:46:00\n",
       "15     2215.0  21:46:07\n",
       "16     2215.0  21:46:14\n",
       "17     2215.0  21:46:31\n",
       "18     2215.0  21:46:38\n",
       "19      240.0  21:46:45\n",
       "20     2215.0  21:47:01\n",
       "21      253.0  21:47:08\n",
       "22      551.0  21:47:14\n",
       "23      236.0  21:47:31\n",
       "24       25.0  21:47:38\n",
       "25       72.0  21:47:58\n",
       "26       39.0  21:48:05\n",
       "27       30.0  21:48:12\n",
       "28      253.0  21:48:23\n",
       "29       25.0  21:48:31\n",
       "30        0.0  22:07:14\n",
       "31        0.0  22:07:22\n",
       "32        0.0  22:07:40\n",
       "33        0.0  22:07:59\n",
       "34        0.0  22:08:06"
      ]
     },
     "execution_count": 26,
     "metadata": {},
     "output_type": "execute_result"
    }
   ],
   "source": [
    "DatoUltrasonico"
   ]
  },
  {
   "cell_type": "markdown",
   "id": "infrared-basket",
   "metadata": {},
   "source": [
    "# Información General De Las Tablas"
   ]
  },
  {
   "cell_type": "code",
   "execution_count": 27,
   "id": "southeast-place",
   "metadata": {},
   "outputs": [
    {
     "name": "stdout",
     "output_type": "stream",
     "text": [
      "<class 'pandas.core.frame.DataFrame'>\n",
      "RangeIndex: 36 entries, 0 to 35\n",
      "Data columns (total 2 columns):\n",
      " #   Column     Non-Null Count  Dtype  \n",
      "---  ------     --------------  -----  \n",
      " 0   distancia  36 non-null     float64\n",
      " 1   hora       36 non-null     object \n",
      "dtypes: float64(1), object(1)\n",
      "memory usage: 704.0+ bytes\n"
     ]
    }
   ],
   "source": [
    "DatoObstaculo.info()"
   ]
  },
  {
   "cell_type": "code",
   "execution_count": 28,
   "id": "committed-transportation",
   "metadata": {},
   "outputs": [
    {
     "name": "stdout",
     "output_type": "stream",
     "text": [
      "<class 'pandas.core.frame.DataFrame'>\n",
      "RangeIndex: 35 entries, 0 to 34\n",
      "Data columns (total 2 columns):\n",
      " #   Column     Non-Null Count  Dtype  \n",
      "---  ------     --------------  -----  \n",
      " 0   distancia  35 non-null     float64\n",
      " 1   hora       35 non-null     object \n",
      "dtypes: float64(1), object(1)\n",
      "memory usage: 688.0+ bytes\n"
     ]
    }
   ],
   "source": [
    "DatoUltrasonico.info()"
   ]
  },
  {
   "cell_type": "markdown",
   "id": "naked-assistant",
   "metadata": {},
   "source": [
    "# Datos Estadísticos De Las Tablas De Los Sensores "
   ]
  },
  {
   "cell_type": "code",
   "execution_count": 30,
   "id": "artificial-mobility",
   "metadata": {},
   "outputs": [
    {
     "data": {
      "text/html": [
       "<div>\n",
       "<style scoped>\n",
       "    .dataframe tbody tr th:only-of-type {\n",
       "        vertical-align: middle;\n",
       "    }\n",
       "\n",
       "    .dataframe tbody tr th {\n",
       "        vertical-align: top;\n",
       "    }\n",
       "\n",
       "    .dataframe thead th {\n",
       "        text-align: right;\n",
       "    }\n",
       "</style>\n",
       "<table border=\"1\" class=\"dataframe\">\n",
       "  <thead>\n",
       "    <tr style=\"text-align: right;\">\n",
       "      <th></th>\n",
       "      <th>distancia</th>\n",
       "    </tr>\n",
       "  </thead>\n",
       "  <tbody>\n",
       "    <tr>\n",
       "      <th>count</th>\n",
       "      <td>36.000000</td>\n",
       "    </tr>\n",
       "    <tr>\n",
       "      <th>mean</th>\n",
       "      <td>77.791667</td>\n",
       "    </tr>\n",
       "    <tr>\n",
       "      <th>std</th>\n",
       "      <td>6.221409</td>\n",
       "    </tr>\n",
       "    <tr>\n",
       "      <th>min</th>\n",
       "      <td>67.100000</td>\n",
       "    </tr>\n",
       "    <tr>\n",
       "      <th>25%</th>\n",
       "      <td>76.200000</td>\n",
       "    </tr>\n",
       "    <tr>\n",
       "      <th>50%</th>\n",
       "      <td>78.300000</td>\n",
       "    </tr>\n",
       "    <tr>\n",
       "      <th>75%</th>\n",
       "      <td>78.900000</td>\n",
       "    </tr>\n",
       "    <tr>\n",
       "      <th>max</th>\n",
       "      <td>89.100000</td>\n",
       "    </tr>\n",
       "  </tbody>\n",
       "</table>\n",
       "</div>"
      ],
      "text/plain": [
       "       distancia\n",
       "count  36.000000\n",
       "mean   77.791667\n",
       "std     6.221409\n",
       "min    67.100000\n",
       "25%    76.200000\n",
       "50%    78.300000\n",
       "75%    78.900000\n",
       "max    89.100000"
      ]
     },
     "execution_count": 30,
     "metadata": {},
     "output_type": "execute_result"
    }
   ],
   "source": [
    "DatoObstaculo.describe()"
   ]
  },
  {
   "cell_type": "code",
   "execution_count": 31,
   "id": "dutch-sample",
   "metadata": {},
   "outputs": [
    {
     "data": {
      "text/html": [
       "<div>\n",
       "<style scoped>\n",
       "    .dataframe tbody tr th:only-of-type {\n",
       "        vertical-align: middle;\n",
       "    }\n",
       "\n",
       "    .dataframe tbody tr th {\n",
       "        vertical-align: top;\n",
       "    }\n",
       "\n",
       "    .dataframe thead th {\n",
       "        text-align: right;\n",
       "    }\n",
       "</style>\n",
       "<table border=\"1\" class=\"dataframe\">\n",
       "  <thead>\n",
       "    <tr style=\"text-align: right;\">\n",
       "      <th></th>\n",
       "      <th>distancia</th>\n",
       "    </tr>\n",
       "  </thead>\n",
       "  <tbody>\n",
       "    <tr>\n",
       "      <th>count</th>\n",
       "      <td>35.000000</td>\n",
       "    </tr>\n",
       "    <tr>\n",
       "      <th>mean</th>\n",
       "      <td>581.308571</td>\n",
       "    </tr>\n",
       "    <tr>\n",
       "      <th>std</th>\n",
       "      <td>909.156922</td>\n",
       "    </tr>\n",
       "    <tr>\n",
       "      <th>min</th>\n",
       "      <td>0.000000</td>\n",
       "    </tr>\n",
       "    <tr>\n",
       "      <th>25%</th>\n",
       "      <td>25.000000</td>\n",
       "    </tr>\n",
       "    <tr>\n",
       "      <th>50%</th>\n",
       "      <td>78.900000</td>\n",
       "    </tr>\n",
       "    <tr>\n",
       "      <th>75%</th>\n",
       "      <td>410.500000</td>\n",
       "    </tr>\n",
       "    <tr>\n",
       "      <th>max</th>\n",
       "      <td>2216.000000</td>\n",
       "    </tr>\n",
       "  </tbody>\n",
       "</table>\n",
       "</div>"
      ],
      "text/plain": [
       "         distancia\n",
       "count    35.000000\n",
       "mean    581.308571\n",
       "std     909.156922\n",
       "min       0.000000\n",
       "25%      25.000000\n",
       "50%      78.900000\n",
       "75%     410.500000\n",
       "max    2216.000000"
      ]
     },
     "execution_count": 31,
     "metadata": {},
     "output_type": "execute_result"
    }
   ],
   "source": [
    "DatoUltrasonico.describe()"
   ]
  },
  {
   "cell_type": "markdown",
   "id": "voluntary-mailing",
   "metadata": {},
   "source": [
    "# Relación"
   ]
  },
  {
   "cell_type": "code",
   "execution_count": 68,
   "id": "sonic-packing",
   "metadata": {},
   "outputs": [],
   "source": [
    "relation = DatoObstaculo[['distancia', 'hora']]"
   ]
  },
  {
   "cell_type": "code",
   "execution_count": 69,
   "id": "cleared-property",
   "metadata": {},
   "outputs": [
    {
     "data": {
      "text/html": [
       "<div>\n",
       "<style scoped>\n",
       "    .dataframe tbody tr th:only-of-type {\n",
       "        vertical-align: middle;\n",
       "    }\n",
       "\n",
       "    .dataframe tbody tr th {\n",
       "        vertical-align: top;\n",
       "    }\n",
       "\n",
       "    .dataframe thead th {\n",
       "        text-align: right;\n",
       "    }\n",
       "</style>\n",
       "<table border=\"1\" class=\"dataframe\">\n",
       "  <thead>\n",
       "    <tr style=\"text-align: right;\">\n",
       "      <th></th>\n",
       "      <th>distancia</th>\n",
       "      <th>hora</th>\n",
       "    </tr>\n",
       "  </thead>\n",
       "  <tbody>\n",
       "    <tr>\n",
       "      <th>31</th>\n",
       "      <td>78.9</td>\n",
       "      <td>20:49:57</td>\n",
       "    </tr>\n",
       "    <tr>\n",
       "      <th>32</th>\n",
       "      <td>76.2</td>\n",
       "      <td>20:50:38</td>\n",
       "    </tr>\n",
       "    <tr>\n",
       "      <th>33</th>\n",
       "      <td>78.9</td>\n",
       "      <td>20:50:38</td>\n",
       "    </tr>\n",
       "    <tr>\n",
       "      <th>34</th>\n",
       "      <td>76.2</td>\n",
       "      <td>20:50:44</td>\n",
       "    </tr>\n",
       "    <tr>\n",
       "      <th>35</th>\n",
       "      <td>78.9</td>\n",
       "      <td>20:50:44</td>\n",
       "    </tr>\n",
       "  </tbody>\n",
       "</table>\n",
       "</div>"
      ],
      "text/plain": [
       "    distancia      hora\n",
       "31       78.9  20:49:57\n",
       "32       76.2  20:50:38\n",
       "33       78.9  20:50:38\n",
       "34       76.2  20:50:44\n",
       "35       78.9  20:50:44"
      ]
     },
     "execution_count": 69,
     "metadata": {},
     "output_type": "execute_result"
    }
   ],
   "source": [
    "relation.tail(5)"
   ]
  },
  {
   "cell_type": "markdown",
   "id": "unable-queens",
   "metadata": {},
   "source": [
    "# Gráficas"
   ]
  },
  {
   "cell_type": "code",
   "execution_count": 71,
   "id": "certified-queensland",
   "metadata": {},
   "outputs": [
    {
     "data": {
      "text/plain": [
       "<seaborn.axisgrid.PairGrid at 0x7f2aebf86730>"
      ]
     },
     "execution_count": 71,
     "metadata": {},
     "output_type": "execute_result"
    },
    {
     "data": {
      "image/png": "[encoded data removed]",
      "text/plain": [
       "<Figure size 180x180 with 2 Axes>"
      ]
     },
     "metadata": {
      "needs_background": "light"
     },
     "output_type": "display_data"
    }
   ],
   "source": [
    "sns.pairplot(relation, kind='reg')"
   ]
  },
  {
   "cell_type": "code",
   "execution_count": 47,
   "id": "spectacular-flower",
   "metadata": {},
   "outputs": [
    {
     "data": {
      "text/plain": [
       "<AxesSubplot:xlabel='distancia', ylabel='Count'>"
      ]
     },
     "execution_count": 47,
     "metadata": {},
     "output_type": "execute_result"
    },
    {
     "data": {
      "image/png": "[encoded data removed]",
      "text/plain": [
       "<Figure size 432x288 with 1 Axes>"
      ]
     },
     "metadata": {
      "needs_background": "light"
     },
     "output_type": "display_data"
    }
   ],
   "source": [
    "sns.histplot(DatoObstaculo.distancia)"
   ]
  },
  {
   "cell_type": "code",
   "execution_count": 49,
   "id": "banned-compound",
   "metadata": {},
   "outputs": [
    {
     "data": {
      "text/plain": [
       "<seaborn.axisgrid.FacetGrid at 0x7f2aee8096a0>"
      ]
     },
     "execution_count": 49,
     "metadata": {},
     "output_type": "execute_result"
    },
    {
     "data": {
      "image/png": "[encoded data removed]",
      "text/plain": [
       "<Figure size 360x360 with 1 Axes>"
      ]
     },
     "metadata": {
      "needs_background": "light"
     },
     "output_type": "display_data"
    }
   ],
   "source": [
    "sns.displot(DatoObstaculo.distancia)"
   ]
  },
  {
   "cell_type": "code",
   "execution_count": 50,
   "id": "hawaiian-score",
   "metadata": {},
   "outputs": [
    {
     "data": {
      "text/plain": [
       "<seaborn.axisgrid.FacetGrid at 0x7f2aee7b8eb0>"
      ]
     },
     "execution_count": 50,
     "metadata": {},
     "output_type": "execute_result"
    },
    {
     "data": {
      "image/png": "[encoded data removed]",
      "text/plain": [
       "<Figure size 360x360 with 1 Axes>"
      ]
     },
     "metadata": {
      "needs_background": "light"
     },
     "output_type": "display_data"
    }
   ],
   "source": [
    "sns.displot(DatoUltrasonico.distancia)"
   ]
  },
  {
   "cell_type": "code",
   "execution_count": 66,
   "id": "cubic-recycling",
   "metadata": {},
   "outputs": [
    {
     "data": {
      "text/plain": [
       "<AxesSubplot:xlabel='distancia', ylabel='Density'>"
      ]
     },
     "execution_count": 66,
     "metadata": {},
     "output_type": "execute_result"
    },
    {
     "data": {
      "image/png": "[encoded data removed]",
      "text/plain": [
       "<Figure size 432x288 with 1 Axes>"
      ]
     },
     "metadata": {
      "needs_background": "light"
     },
     "output_type": "display_data"
    }
   ],
   "source": [
    "kdeplot(DatoObstaculo.distancia)"
   ]
  },
  {
   "cell_type": "code",
   "execution_count": 67,
   "id": "worth-graph",
   "metadata": {},
   "outputs": [
    {
     "data": {
      "text/plain": [
       "<AxesSubplot:xlabel='distancia', ylabel='Density'>"
      ]
     },
     "execution_count": 67,
     "metadata": {},
     "output_type": "execute_result"
    },
    {
     "data": {
      "image/png": "[encoded data removed]",
      "text/plain": [
       "<Figure size 432x288 with 1 Axes>"
      ]
     },
     "metadata": {
      "needs_background": "light"
     },
     "output_type": "display_data"
    }
   ],
   "source": [
    "kdeplot(DatoUltrasonico.distancia)"
   ]
  },
  {
   "cell_type": "code",
   "execution_count": 64,
   "id": "collaborative-preservation",
   "metadata": {},
   "outputs": [
    {
     "data": {
      "text/plain": [
       "<AxesSubplot:xlabel='hora', ylabel='distancia'>"
      ]
     },
     "execution_count": 64,
     "metadata": {},
     "output_type": "execute_result"
    },
    {
     "data": {
      "image/png": "[encoded data removed]",
      "text/plain": [
       "<Figure size 432x288 with 1 Axes>"
      ]
     },
     "metadata": {
      "needs_background": "light"
     },
     "output_type": "display_data"
    }
   ],
   "source": [
    "boxplot(x=\"hora\", y=\"distancia\", data=DatoUltrasonico)"
   ]
  },
  {
   "cell_type": "code",
   "execution_count": 62,
   "id": "amber-basketball",
   "metadata": {},
   "outputs": [
    {
     "data": {
      "text/plain": [
       "<AxesSubplot:xlabel='hora', ylabel='distancia'>"
      ]
     },
     "execution_count": 62,
     "metadata": {},
     "output_type": "execute_result"
    },
    {
     "data": {
      "image/png": "[encoded data removed]",
      "text/plain": [
       "<Figure size 432x288 with 1 Axes>"
      ]
     },
     "metadata": {
      "needs_background": "light"
     },
     "output_type": "display_data"
    }
   ],
   "source": [
    "boxplot(x=\"hora\", y=\"distancia\", data=DatoObstaculo)"
   ]
  },
  {
   "cell_type": "code",
   "execution_count": null,
   "id": "extreme-frederick",
   "metadata": {},
   "outputs": [],
   "source": []
  }
 ],
 "metadata": {
  "kernelspec": {
   "display_name": "Python 3",
   "language": "python",
   "name": "python3"
  },
  "language_info": {
   "codemirror_mode": {
    "name": "ipython",
    "version": 3
   },
   "file_extension": ".py",
   "mimetype": "text/x-python",
   "name": "python",
   "nbconvert_exporter": "python",
   "pygments_lexer": "ipython3",
   "version": "3.8.5"
  }
 },
 "nbformat": 4,
 "nbformat_minor": 5
}
